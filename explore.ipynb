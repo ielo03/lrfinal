{
 "cells": [
  {
   "metadata": {},
   "cell_type": "markdown",
   "source": [
    "# Linear Regression Project\n",
    "This notebook outlines the steps to preprocess data, build regression models (OLS, Ridge, Lasso), and evaluate their performance. Each step is explained in detail."
   ],
   "id": "5816a6e75f8924e"
  },
  {
   "metadata": {},
   "cell_type": "markdown",
   "source": [
    "## Step 1: Load the Data\n",
    "Here we load the dataset and inspect its structure to understand the features and target variable. We'll check for missing values and explore the data types."
   ],
   "id": "3f4c4906247ff80e"
  },
  {
   "metadata": {},
   "cell_type": "code",
   "outputs": [],
   "execution_count": null,
   "source": [
    "import pandas as pd\n",
    "from IPython.display import display\n",
    "\n",
    "# Load the dataset\n",
    "data = pd.read_json('path/to/your/dataset.json')\n",
    "display(data.head())\n",
    "display(data.info())"
   ],
   "id": "ad1e60fdfdfd3255"
  },
  {
   "metadata": {},
   "cell_type": "markdown",
   "source": [
    "## Step 2: Preprocess the Data\n",
    "Before modeling, we clean the data by handling missing values, encoding categorical variables, and scaling numerical features if necessary."
   ],
   "id": "6f25b8a043ec04d"
  },
  {
   "metadata": {},
   "cell_type": "code",
   "outputs": [],
   "execution_count": null,
   "source": [
    "# Example preprocessing\n",
    "# Drop missing values\n",
    "data = data.dropna()\n",
    "\n",
    "# Encode categorical variables (if any)\n",
    "data = pd.get_dummies(data, drop_first=True)\n",
    "\n",
    "# Separate predictors and response\n",
    "X = data.drop(columns=[\"target_column\"])\n",
    "y = data[\"target_column\"]"
   ],
   "id": "dd5102f3cf4bc477"
  },
  {
   "metadata": {},
   "cell_type": "markdown",
   "source": [
    "## Step 3: Split the Data\n",
    "We split the data into training and testing sets to evaluate model performance on unseen data."
   ],
   "id": "20637fcb1d43ef90"
  },
  {
   "metadata": {},
   "cell_type": "code",
   "outputs": [],
   "execution_count": null,
   "source": [
    "from sklearn.model_selection import train_test_split\n",
    "\n",
    "# Split the data\n",
    "X_train, X_test, y_train, y_test = train_test_split(X, y, test_size=0.2, random_state=42)"
   ],
   "id": "7a3ea26cadfec0a"
  },
  {
   "metadata": {},
   "cell_type": "markdown",
   "source": [
    "## Step 4: Define the Regression Function\n",
    "Here we define a reusable function to fit and evaluate different types of regression models: OLS, Ridge, and Lasso. This function automates the modeling process."
   ],
   "id": "deaa1dbc35e343cc"
  },
  {
   "metadata": {},
   "cell_type": "code",
   "outputs": [],
   "execution_count": null,
   "source": [
    "from sklearn.linear_model import LinearRegression, Ridge, Lasso\n",
    "from sklearn.metrics import mean_squared_error, r2_score\n",
    "\n",
    "def regression_pipeline(X_train, X_test, y_train, y_test, model_type='ols', **kwargs):\n",
    "    \"\"\"\n",
    "    A function to preprocess data, fit a regression model, and evaluate it.\n",
    "    Args:\n",
    "        X_train: Training predictors\n",
    "        X_test: Testing predictors\n",
    "        y_train: Training response\n",
    "        y_test: Testing response\n",
    "        model_type: 'ols', 'ridge', or 'lasso'\n",
    "        **kwargs: Additional parameters for the regression model\n",
    "    Returns:\n",
    "        model: Trained model\n",
    "        metrics: Dictionary of evaluation metrics\n",
    "    \"\"\"\n",
    "    # Initialize model\n",
    "    if model_type == 'ols':\n",
    "        model = LinearRegression(**kwargs)\n",
    "    elif model_type == 'ridge':\n",
    "        model = Ridge(**kwargs)\n",
    "    elif model_type == 'lasso':\n",
    "        model = Lasso(**kwargs)\n",
    "    else:\n",
    "        raise ValueError(\"Invalid model type. Choose 'ols', 'ridge', or 'lasso'.\")\n",
    "\n",
    "    # Train model\n",
    "    model.fit(X_train, y_train)\n",
    "\n",
    "    # Predict and evaluate\n",
    "    y_pred = model.predict(X_test)\n",
    "    metrics = {\n",
    "        'MSE': mean_squared_error(y_test, y_pred),\n",
    "        'R2': r2_score(y_test, y_pred)\n",
    "    }\n",
    "\n",
    "    return model, metrics"
   ],
   "id": "6cd21ff6f23a7104"
  },
  {
   "metadata": {},
   "cell_type": "markdown",
   "source": [
    "## Step 5: Train and Evaluate Models\n",
    "We train different regression models (OLS, Ridge, Lasso) and compare their performance using metrics like MSE and \\(R^2\\)."
   ],
   "id": "29cd06ad8a9e1e28"
  },
  {
   "metadata": {},
   "cell_type": "code",
   "outputs": [],
   "execution_count": null,
   "source": [
    "# Train and evaluate OLS\n",
    "ols_model, ols_metrics = regression_pipeline(X_train, X_test, y_train, y_test, model_type='ols')\n",
    "print(\"OLS Metrics:\", ols_metrics)\n",
    "\n",
    "# Train and evaluate Ridge\n",
    "ridge_model, ridge_metrics = regression_pipeline(X_train, X_test, y_train, y_test, model_type='ridge', alpha=1.0)\n",
    "print(\"Ridge Metrics:\", ridge_metrics)\n",
    "\n",
    "# Train and evaluate Lasso\n",
    "lasso_model, lasso_metrics = regression_pipeline(X_train, X_test, y_train, y_test, model_type='lasso', alpha=0.1)\n",
    "print(\"Lasso Metrics:\", lasso_metrics)"
   ],
   "id": "2eafba988e21034f"
  },
  {
   "metadata": {},
   "cell_type": "markdown",
   "source": [
    "## Step 6: Visualize Results\n",
    "We create visualizations to compare model performance and residuals to validate assumptions."
   ],
   "id": "8aa158cb2fd04223"
  },
  {
   "metadata": {},
   "cell_type": "code",
   "outputs": [],
   "execution_count": null,
   "source": [
    "import matplotlib.pyplot as plt\n",
    "\n",
    "# Residual plot for OLS\n",
    "y_pred_ols = ols_model.predict(X_test)\n",
    "residuals_ols = y_test - y_pred_ols\n",
    "\n",
    "plt.scatter(y_pred_ols, residuals_ols)\n",
    "plt.axhline(y=0, color='r', linestyle='--')\n",
    "plt.xlabel(\"Predicted Values\")\n",
    "plt.ylabel(\"Residuals\")\n",
    "plt.title(\"OLS Residuals\")\n",
    "plt.show()"
   ],
   "id": "d52ce7e44a576840"
  },
  {
   "metadata": {},
   "cell_type": "markdown",
   "source": [
    "## Step 7: Conclusion\n",
    "Summarize the findings and discuss which model performed best based on metrics and assumptions."
   ],
   "id": "70f5434d8f78a3ec"
  }
 ],
 "metadata": {
  "kernelspec": {
   "display_name": "Python 3",
   "language": "python",
   "name": "python3"
  },
  "language_info": {
   "codemirror_mode": {
    "name": "ipython",
    "version": 2
   },
   "file_extension": ".py",
   "mimetype": "text/x-python",
   "name": "python",
   "nbconvert_exporter": "python",
   "pygments_lexer": "ipython2",
   "version": "2.7.6"
  }
 },
 "nbformat": 4,
 "nbformat_minor": 5
}
